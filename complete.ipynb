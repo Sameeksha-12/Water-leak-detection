{
  "nbformat": 4,
  "nbformat_minor": 0,
  "metadata": {
    "colab": {
      "provenance": [],
      "mount_file_id": "13FMWKVbPWhdd0ePcpAAzAsaJE9mAdUqs",
      "authorship_tag": "ABX9TyOMqn1ZMULABwVHeRPrdmT+",
      "include_colab_link": true
    },
    "kernelspec": {
      "name": "python3",
      "display_name": "Python 3"
    },
    "language_info": {
      "name": "python"
    }
  },
  "cells": [
    {
      "cell_type": "markdown",
      "metadata": {
        "id": "view-in-github",
        "colab_type": "text"
      },
      "source": [
        "<a href=\"https://colab.research.google.com/github/Sameeksha-12/Water-leak-detection/blob/main/complete.ipynb\" target=\"_parent\"><img src=\"https://colab.research.google.com/assets/colab-badge.svg\" alt=\"Open In Colab\"/></a>"
      ]
    },
    {
      "cell_type": "code",
      "execution_count": null,
      "metadata": {
        "colab": {
          "base_uri": "https://localhost:8080/"
        },
        "id": "-NFc1KBSPGyE",
        "outputId": "e901687e-b6da-477a-962c-450646c02151"
      },
      "outputs": [
        {
          "output_type": "stream",
          "name": "stdout",
          "text": [
            "drive  sample_data  water.csv  water_dataset  water_leakage.txt  water_shuffle1.csv\n"
          ]
        }
      ],
      "source": [
        "!dir"
      ]
    },
    {
      "cell_type": "code",
      "source": [
        "import os"
      ],
      "metadata": {
        "id": "uxDnDIRURzRC"
      },
      "execution_count": null,
      "outputs": []
    },
    {
      "cell_type": "code",
      "source": [
        "from zipfile import ZipFile\n",
        "zip_path = '/content/drive/MyDrive/Colab Notebooks/water_dataset.zip'\n",
        "\n",
        "with ZipFile(zip_path, 'r') as zip:\n",
        "  zip.extractall()\n",
        "  print('Yayy')"
      ],
      "metadata": {
        "colab": {
          "base_uri": "https://localhost:8080/"
        },
        "id": "gUDgXCqyQwkA",
        "outputId": "fdc32b3f-4c7e-49f3-b2e2-13462536df21"
      },
      "execution_count": null,
      "outputs": [
        {
          "output_type": "stream",
          "name": "stdout",
          "text": [
            "Yayy\n"
          ]
        }
      ]
    },
    {
      "cell_type": "code",
      "source": [
        "!dir\n"
      ],
      "metadata": {
        "colab": {
          "base_uri": "https://localhost:8080/"
        },
        "id": "TydW5hgxRdwa",
        "outputId": "0dc0883f-e9cf-4eb5-9901-0f4a7825ad5a"
      },
      "execution_count": null,
      "outputs": [
        {
          "output_type": "stream",
          "name": "stdout",
          "text": [
            "drive  sample_data  water.csv  water_dataset  water_leakage.txt  water_shuffle1.csv\n"
          ]
        }
      ]
    },
    {
      "cell_type": "code",
      "source": [
        "leak_dir = '/content/water_dataset/Leak'\n",
        "non_leak_dir = '/content/water_dataset/Nonleak'"
      ],
      "metadata": {
        "id": "U0V-7ltkR_7d"
      },
      "execution_count": null,
      "outputs": []
    },
    {
      "cell_type": "code",
      "source": [
        "output_file = '/content/water_leakage.txt'\n",
        "\n",
        "with open(output_file, 'w') as f:\n",
        "    f.write(\"audio,leakage\\n\")  # Write the header\n",
        "\n",
        "    # Process Leak files\n",
        "    if os.path.exists(leak_dir):\n",
        "        for file_name in os.listdir(leak_dir):\n",
        "            file_path = os.path.join(leak_dir, file_name)\n",
        "            f.write(f\"{file_path},1\\n\")\n",
        "    else:\n",
        "        print(f\"Error: Directory '{leak_dir}' not found.\")\n",
        "\n",
        "    # Process Non-Leak files\n",
        "    if os.path.exists(non_leak_dir):\n",
        "        for file_name in os.listdir(non_leak_dir):\n",
        "            file_path = os.path.join(non_leak_dir, file_name)\n",
        "            f.write(f\"{file_path},0\\n\")\n",
        "    else:\n",
        "        print(f\"Error: Directory '{non_leak_dir}' not found.\")"
      ],
      "metadata": {
        "id": "h4juawL1YlVY"
      },
      "execution_count": null,
      "outputs": []
    },
    {
      "cell_type": "code",
      "source": [
        "with open(output_file, 'r') as f:\n",
        "    lines = f.readlines()\n",
        "    for line in lines[:10]:  # Print first 10 lines as a sample\n",
        "        print(line.strip())"
      ],
      "metadata": {
        "colab": {
          "base_uri": "https://localhost:8080/"
        },
        "id": "mctjUdSgYuc1",
        "outputId": "8ed1b0cc-1cc3-46d6-f84d-8fd9a6b7f2b8"
      },
      "execution_count": null,
      "outputs": [
        {
          "output_type": "stream",
          "name": "stdout",
          "text": [
            "audio,leakage\n",
            "/content/water_dataset/Leak/1.2.01.0330.wav,1\n",
            "/content/water_dataset/Leak/3.2.04.0415.wav,1\n",
            "/content/water_dataset/Leak/1.4.01.0330.wav,1\n",
            "/content/water_dataset/Leak/1.3.04.0415.wav,1\n",
            "/content/water_dataset/Leak/3.3.01.0330.wav,1\n",
            "/content/water_dataset/Leak/022_00263-20180605.wav,1\n",
            "/content/water_dataset/Leak/1.2.02.0345.wav,1\n",
            "/content/water_dataset/Leak/1.7.01.0330.wav,1\n",
            "/content/water_dataset/Leak/3.1.01.0330.wav,1\n"
          ]
        }
      ]
    },
    {
      "cell_type": "code",
      "source": [
        "import pandas as pd\n",
        "\n",
        "df = pd.read_csv(output_file)\n",
        "\n",
        "csv_file = '/content/water.csv'\n",
        "df.to_csv(csv_file, index=False)\n",
        "\n",
        "df = pd.read_csv(csv_file)\n",
        "\n",
        "df_shuffled = df.sample(frac=1).reset_index(drop=True)\n",
        "shuffled_csv_file = '/content/water_shuffle1.csv'\n",
        "df_shuffled.to_csv(shuffled_csv_file, index=False)\n",
        "\n",
        "print(\"Shuffled CSV file created successfully.\")"
      ],
      "metadata": {
        "colab": {
          "base_uri": "https://localhost:8080/"
        },
        "id": "vQLd6zyZZIaR",
        "outputId": "c4836256-2855-40ba-9109-60332f280d7e"
      },
      "execution_count": null,
      "outputs": [
        {
          "output_type": "stream",
          "name": "stdout",
          "text": [
            "Shuffled CSV file created successfully.\n"
          ]
        }
      ]
    },
    {
      "cell_type": "code",
      "source": [
        "data = pd.read_csv('/content/water_shuffle1.csv')\n",
        "data.head()"
      ],
      "metadata": {
        "colab": {
          "base_uri": "https://localhost:8080/",
          "height": 206
        },
        "id": "GQU6Kwpvgc_8",
        "outputId": "ebb3e9ee-c6ce-4cda-8969-3efe60aa9e60"
      },
      "execution_count": null,
      "outputs": [
        {
          "output_type": "execute_result",
          "data": {
            "text/plain": [
              "                                               audio  leakage\n",
              "0  /content/water_dataset/Nonleak/07550_20170609_...        0\n",
              "1        /content/water_dataset/Leak/3.2.01.0330.wav        1\n",
              "2     /content/water_dataset/Nonleak/2.6.03.0830.wav        0\n",
              "3     /content/water_dataset/Nonleak/2.4.01.0330.wav        0\n",
              "4        /content/water_dataset/Leak/1.3.04.0415.wav        1"
            ],
            "text/html": [
              "\n",
              "  <div id=\"df-72b29d7d-1034-4188-bfd7-499b73ba4040\" class=\"colab-df-container\">\n",
              "    <div>\n",
              "<style scoped>\n",
              "    .dataframe tbody tr th:only-of-type {\n",
              "        vertical-align: middle;\n",
              "    }\n",
              "\n",
              "    .dataframe tbody tr th {\n",
              "        vertical-align: top;\n",
              "    }\n",
              "\n",
              "    .dataframe thead th {\n",
              "        text-align: right;\n",
              "    }\n",
              "</style>\n",
              "<table border=\"1\" class=\"dataframe\">\n",
              "  <thead>\n",
              "    <tr style=\"text-align: right;\">\n",
              "      <th></th>\n",
              "      <th>audio</th>\n",
              "      <th>leakage</th>\n",
              "    </tr>\n",
              "  </thead>\n",
              "  <tbody>\n",
              "    <tr>\n",
              "      <th>0</th>\n",
              "      <td>/content/water_dataset/Nonleak/07550_20170609_...</td>\n",
              "      <td>0</td>\n",
              "    </tr>\n",
              "    <tr>\n",
              "      <th>1</th>\n",
              "      <td>/content/water_dataset/Leak/3.2.01.0330.wav</td>\n",
              "      <td>1</td>\n",
              "    </tr>\n",
              "    <tr>\n",
              "      <th>2</th>\n",
              "      <td>/content/water_dataset/Nonleak/2.6.03.0830.wav</td>\n",
              "      <td>0</td>\n",
              "    </tr>\n",
              "    <tr>\n",
              "      <th>3</th>\n",
              "      <td>/content/water_dataset/Nonleak/2.4.01.0330.wav</td>\n",
              "      <td>0</td>\n",
              "    </tr>\n",
              "    <tr>\n",
              "      <th>4</th>\n",
              "      <td>/content/water_dataset/Leak/1.3.04.0415.wav</td>\n",
              "      <td>1</td>\n",
              "    </tr>\n",
              "  </tbody>\n",
              "</table>\n",
              "</div>\n",
              "    <div class=\"colab-df-buttons\">\n",
              "\n",
              "  <div class=\"colab-df-container\">\n",
              "    <button class=\"colab-df-convert\" onclick=\"convertToInteractive('df-72b29d7d-1034-4188-bfd7-499b73ba4040')\"\n",
              "            title=\"Convert this dataframe to an interactive table.\"\n",
              "            style=\"display:none;\">\n",
              "\n",
              "  <svg xmlns=\"http://www.w3.org/2000/svg\" height=\"24px\" viewBox=\"0 -960 960 960\">\n",
              "    <path d=\"M120-120v-720h720v720H120Zm60-500h600v-160H180v160Zm220 220h160v-160H400v160Zm0 220h160v-160H400v160ZM180-400h160v-160H180v160Zm440 0h160v-160H620v160ZM180-180h160v-160H180v160Zm440 0h160v-160H620v160Z\"/>\n",
              "  </svg>\n",
              "    </button>\n",
              "\n",
              "  <style>\n",
              "    .colab-df-container {\n",
              "      display:flex;\n",
              "      gap: 12px;\n",
              "    }\n",
              "\n",
              "    .colab-df-convert {\n",
              "      background-color: #E8F0FE;\n",
              "      border: none;\n",
              "      border-radius: 50%;\n",
              "      cursor: pointer;\n",
              "      display: none;\n",
              "      fill: #1967D2;\n",
              "      height: 32px;\n",
              "      padding: 0 0 0 0;\n",
              "      width: 32px;\n",
              "    }\n",
              "\n",
              "    .colab-df-convert:hover {\n",
              "      background-color: #E2EBFA;\n",
              "      box-shadow: 0px 1px 2px rgba(60, 64, 67, 0.3), 0px 1px 3px 1px rgba(60, 64, 67, 0.15);\n",
              "      fill: #174EA6;\n",
              "    }\n",
              "\n",
              "    .colab-df-buttons div {\n",
              "      margin-bottom: 4px;\n",
              "    }\n",
              "\n",
              "    [theme=dark] .colab-df-convert {\n",
              "      background-color: #3B4455;\n",
              "      fill: #D2E3FC;\n",
              "    }\n",
              "\n",
              "    [theme=dark] .colab-df-convert:hover {\n",
              "      background-color: #434B5C;\n",
              "      box-shadow: 0px 1px 3px 1px rgba(0, 0, 0, 0.15);\n",
              "      filter: drop-shadow(0px 1px 2px rgba(0, 0, 0, 0.3));\n",
              "      fill: #FFFFFF;\n",
              "    }\n",
              "  </style>\n",
              "\n",
              "    <script>\n",
              "      const buttonEl =\n",
              "        document.querySelector('#df-72b29d7d-1034-4188-bfd7-499b73ba4040 button.colab-df-convert');\n",
              "      buttonEl.style.display =\n",
              "        google.colab.kernel.accessAllowed ? 'block' : 'none';\n",
              "\n",
              "      async function convertToInteractive(key) {\n",
              "        const element = document.querySelector('#df-72b29d7d-1034-4188-bfd7-499b73ba4040');\n",
              "        const dataTable =\n",
              "          await google.colab.kernel.invokeFunction('convertToInteractive',\n",
              "                                                    [key], {});\n",
              "        if (!dataTable) return;\n",
              "\n",
              "        const docLinkHtml = 'Like what you see? Visit the ' +\n",
              "          '<a target=\"_blank\" href=https://colab.research.google.com/notebooks/data_table.ipynb>data table notebook</a>'\n",
              "          + ' to learn more about interactive tables.';\n",
              "        element.innerHTML = '';\n",
              "        dataTable['output_type'] = 'display_data';\n",
              "        await google.colab.output.renderOutput(dataTable, element);\n",
              "        const docLink = document.createElement('div');\n",
              "        docLink.innerHTML = docLinkHtml;\n",
              "        element.appendChild(docLink);\n",
              "      }\n",
              "    </script>\n",
              "  </div>\n",
              "\n",
              "\n",
              "<div id=\"df-39e21f11-689f-4000-b9ec-37ea7b6cbba4\">\n",
              "  <button class=\"colab-df-quickchart\" onclick=\"quickchart('df-39e21f11-689f-4000-b9ec-37ea7b6cbba4')\"\n",
              "            title=\"Suggest charts\"\n",
              "            style=\"display:none;\">\n",
              "\n",
              "<svg xmlns=\"http://www.w3.org/2000/svg\" height=\"24px\"viewBox=\"0 0 24 24\"\n",
              "     width=\"24px\">\n",
              "    <g>\n",
              "        <path d=\"M19 3H5c-1.1 0-2 .9-2 2v14c0 1.1.9 2 2 2h14c1.1 0 2-.9 2-2V5c0-1.1-.9-2-2-2zM9 17H7v-7h2v7zm4 0h-2V7h2v10zm4 0h-2v-4h2v4z\"/>\n",
              "    </g>\n",
              "</svg>\n",
              "  </button>\n",
              "\n",
              "<style>\n",
              "  .colab-df-quickchart {\n",
              "      --bg-color: #E8F0FE;\n",
              "      --fill-color: #1967D2;\n",
              "      --hover-bg-color: #E2EBFA;\n",
              "      --hover-fill-color: #174EA6;\n",
              "      --disabled-fill-color: #AAA;\n",
              "      --disabled-bg-color: #DDD;\n",
              "  }\n",
              "\n",
              "  [theme=dark] .colab-df-quickchart {\n",
              "      --bg-color: #3B4455;\n",
              "      --fill-color: #D2E3FC;\n",
              "      --hover-bg-color: #434B5C;\n",
              "      --hover-fill-color: #FFFFFF;\n",
              "      --disabled-bg-color: #3B4455;\n",
              "      --disabled-fill-color: #666;\n",
              "  }\n",
              "\n",
              "  .colab-df-quickchart {\n",
              "    background-color: var(--bg-color);\n",
              "    border: none;\n",
              "    border-radius: 50%;\n",
              "    cursor: pointer;\n",
              "    display: none;\n",
              "    fill: var(--fill-color);\n",
              "    height: 32px;\n",
              "    padding: 0;\n",
              "    width: 32px;\n",
              "  }\n",
              "\n",
              "  .colab-df-quickchart:hover {\n",
              "    background-color: var(--hover-bg-color);\n",
              "    box-shadow: 0 1px 2px rgba(60, 64, 67, 0.3), 0 1px 3px 1px rgba(60, 64, 67, 0.15);\n",
              "    fill: var(--button-hover-fill-color);\n",
              "  }\n",
              "\n",
              "  .colab-df-quickchart-complete:disabled,\n",
              "  .colab-df-quickchart-complete:disabled:hover {\n",
              "    background-color: var(--disabled-bg-color);\n",
              "    fill: var(--disabled-fill-color);\n",
              "    box-shadow: none;\n",
              "  }\n",
              "\n",
              "  .colab-df-spinner {\n",
              "    border: 2px solid var(--fill-color);\n",
              "    border-color: transparent;\n",
              "    border-bottom-color: var(--fill-color);\n",
              "    animation:\n",
              "      spin 1s steps(1) infinite;\n",
              "  }\n",
              "\n",
              "  @keyframes spin {\n",
              "    0% {\n",
              "      border-color: transparent;\n",
              "      border-bottom-color: var(--fill-color);\n",
              "      border-left-color: var(--fill-color);\n",
              "    }\n",
              "    20% {\n",
              "      border-color: transparent;\n",
              "      border-left-color: var(--fill-color);\n",
              "      border-top-color: var(--fill-color);\n",
              "    }\n",
              "    30% {\n",
              "      border-color: transparent;\n",
              "      border-left-color: var(--fill-color);\n",
              "      border-top-color: var(--fill-color);\n",
              "      border-right-color: var(--fill-color);\n",
              "    }\n",
              "    40% {\n",
              "      border-color: transparent;\n",
              "      border-right-color: var(--fill-color);\n",
              "      border-top-color: var(--fill-color);\n",
              "    }\n",
              "    60% {\n",
              "      border-color: transparent;\n",
              "      border-right-color: var(--fill-color);\n",
              "    }\n",
              "    80% {\n",
              "      border-color: transparent;\n",
              "      border-right-color: var(--fill-color);\n",
              "      border-bottom-color: var(--fill-color);\n",
              "    }\n",
              "    90% {\n",
              "      border-color: transparent;\n",
              "      border-bottom-color: var(--fill-color);\n",
              "    }\n",
              "  }\n",
              "</style>\n",
              "\n",
              "  <script>\n",
              "    async function quickchart(key) {\n",
              "      const quickchartButtonEl =\n",
              "        document.querySelector('#' + key + ' button');\n",
              "      quickchartButtonEl.disabled = true;  // To prevent multiple clicks.\n",
              "      quickchartButtonEl.classList.add('colab-df-spinner');\n",
              "      try {\n",
              "        const charts = await google.colab.kernel.invokeFunction(\n",
              "            'suggestCharts', [key], {});\n",
              "      } catch (error) {\n",
              "        console.error('Error during call to suggestCharts:', error);\n",
              "      }\n",
              "      quickchartButtonEl.classList.remove('colab-df-spinner');\n",
              "      quickchartButtonEl.classList.add('colab-df-quickchart-complete');\n",
              "    }\n",
              "    (() => {\n",
              "      let quickchartButtonEl =\n",
              "        document.querySelector('#df-39e21f11-689f-4000-b9ec-37ea7b6cbba4 button');\n",
              "      quickchartButtonEl.style.display =\n",
              "        google.colab.kernel.accessAllowed ? 'block' : 'none';\n",
              "    })();\n",
              "  </script>\n",
              "</div>\n",
              "\n",
              "    </div>\n",
              "  </div>\n"
            ],
            "application/vnd.google.colaboratory.intrinsic+json": {
              "type": "dataframe",
              "variable_name": "data",
              "summary": "{\n  \"name\": \"data\",\n  \"rows\": 140,\n  \"fields\": [\n    {\n      \"column\": \"audio\",\n      \"properties\": {\n        \"dtype\": \"string\",\n        \"num_unique_values\": 140,\n        \"samples\": [\n          \"/content/water_dataset/Nonleak/2.5.02.0730.wav\",\n          \"/content/water_dataset/Nonleak/2.1.04.0415.wav\",\n          \"/content/water_dataset/Leak/1.4.03.0400.wav\"\n        ],\n        \"semantic_type\": \"\",\n        \"description\": \"\"\n      }\n    },\n    {\n      \"column\": \"leakage\",\n      \"properties\": {\n        \"dtype\": \"number\",\n        \"std\": 0,\n        \"min\": 0,\n        \"max\": 1,\n        \"num_unique_values\": 2,\n        \"samples\": [\n          1,\n          0\n        ],\n        \"semantic_type\": \"\",\n        \"description\": \"\"\n      }\n    }\n  ]\n}"
            }
          },
          "metadata": {},
          "execution_count": 9
        }
      ]
    },
    {
      "cell_type": "code",
      "source": [
        "data.iloc[2][0]"
      ],
      "metadata": {
        "id": "Zzygog0fiR01",
        "colab": {
          "base_uri": "https://localhost:8080/",
          "height": 36
        },
        "outputId": "46474c3a-712d-43ab-ac49-e8fa98ad1920"
      },
      "execution_count": null,
      "outputs": [
        {
          "output_type": "execute_result",
          "data": {
            "text/plain": [
              "'/content/water_dataset/Nonleak/2.6.03.0830.wav'"
            ],
            "application/vnd.google.colaboratory.intrinsic+json": {
              "type": "string"
            }
          },
          "metadata": {},
          "execution_count": 10
        }
      ]
    },
    {
      "cell_type": "code",
      "source": [
        "filename = '/content/water_dataset/Leak/1.7.04.0415.wav'"
      ],
      "metadata": {
        "id": "aHzq4ZWQqYPS"
      },
      "execution_count": null,
      "outputs": []
    },
    {
      "cell_type": "code",
      "source": [
        "import IPython.display as ipd"
      ],
      "metadata": {
        "id": "YsfXHn9nqffS"
      },
      "execution_count": null,
      "outputs": []
    },
    {
      "cell_type": "code",
      "source": [
        "ipd.Audio(filename)"
      ],
      "metadata": {
        "colab": {
          "base_uri": "https://localhost:8080/",
          "height": 76
        },
        "id": "hJ7-X1eKqpPw",
        "outputId": "6e5c0c56-e37e-4058-8264-f0c331c7a281"
      },
      "execution_count": null,
      "outputs": [
        {
          "output_type": "execute_result",
          "data": {
            "text/plain": [
              "<IPython.lib.display.Audio object>"
            ],
            "text/html": [
              "\n",
              "                <audio  controls=\"controls\" >\n",
              "                    <source src=\"data:audio/x-wav;base64,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\" type=\"audio/x-wav\" />\n",
              "                    Your browser does not support the audio element.\n",
              "                </audio>\n",
              "              "
            ]
          },
          "metadata": {},
          "execution_count": 13
        }
      ]
    },
    {
      "cell_type": "code",
      "source": [
        "import wave"
      ],
      "metadata": {
        "id": "PTuBERiOqtvl"
      },
      "execution_count": null,
      "outputs": []
    },
    {
      "cell_type": "code",
      "source": [
        "wav = wave.open(filename)"
      ],
      "metadata": {
        "id": "hfv5OVowq78T"
      },
      "execution_count": null,
      "outputs": []
    },
    {
      "cell_type": "code",
      "source": [
        "print(\"Sampling (frame) rate = \", wav.getframerate())\n",
        "print(\"Total samples (frames) = \", wav.getnframes())\n",
        "print(\"Duration = \", wav.getnframes()/wav.getframerate())"
      ],
      "metadata": {
        "colab": {
          "base_uri": "https://localhost:8080/"
        },
        "id": "GqamNnqzq_CU",
        "outputId": "e9c282c5-8d82-47da-8c16-01b2d21bebe4"
      },
      "execution_count": null,
      "outputs": [
        {
          "output_type": "stream",
          "name": "stdout",
          "text": [
            "Sampling (frame) rate =  4096\n",
            "Total samples (frames) =  40960\n",
            "Duration =  10.0\n"
          ]
        }
      ]
    },
    {
      "cell_type": "code",
      "source": [
        "!pip uninstall -y resampy librosa"
      ],
      "metadata": {
        "colab": {
          "base_uri": "https://localhost:8080/"
        },
        "id": "Y8i_tKYqxY_p",
        "outputId": "7bec1280-700c-4da4-e786-7e3335893329"
      },
      "execution_count": null,
      "outputs": [
        {
          "output_type": "stream",
          "name": "stdout",
          "text": [
            "Found existing installation: resampy 0.4.3\n",
            "Uninstalling resampy-0.4.3:\n",
            "  Successfully uninstalled resampy-0.4.3\n",
            "Found existing installation: librosa 0.10.2.post1\n",
            "Uninstalling librosa-0.10.2.post1:\n",
            "  Successfully uninstalled librosa-0.10.2.post1\n"
          ]
        }
      ]
    },
    {
      "cell_type": "code",
      "source": [
        "!pip install resampy librosa"
      ],
      "metadata": {
        "id": "MmFjMFyDxcLy",
        "outputId": "ebdd430d-ee69-44a0-92be-8d07af4a8614",
        "colab": {
          "base_uri": "https://localhost:8080/"
        }
      },
      "execution_count": null,
      "outputs": [
        {
          "output_type": "stream",
          "name": "stdout",
          "text": [
            "Collecting resampy\n",
            "  Using cached resampy-0.4.3-py3-none-any.whl (3.1 MB)\n",
            "Collecting librosa\n",
            "  Using cached librosa-0.10.2.post1-py3-none-any.whl (260 kB)\n",
            "Requirement already satisfied: numpy>=1.17 in /usr/local/lib/python3.10/dist-packages (from resampy) (1.25.2)\n",
            "Requirement already satisfied: numba>=0.53 in /usr/local/lib/python3.10/dist-packages (from resampy) (0.58.1)\n",
            "Requirement already satisfied: audioread>=2.1.9 in /usr/local/lib/python3.10/dist-packages (from librosa) (3.0.1)\n",
            "Requirement already satisfied: scipy>=1.2.0 in /usr/local/lib/python3.10/dist-packages (from librosa) (1.11.4)\n",
            "Requirement already satisfied: scikit-learn>=0.20.0 in /usr/local/lib/python3.10/dist-packages (from librosa) (1.2.2)\n",
            "Requirement already satisfied: joblib>=0.14 in /usr/local/lib/python3.10/dist-packages (from librosa) (1.4.2)\n",
            "Requirement already satisfied: decorator>=4.3.0 in /usr/local/lib/python3.10/dist-packages (from librosa) (4.4.2)\n",
            "Requirement already satisfied: soundfile>=0.12.1 in /usr/local/lib/python3.10/dist-packages (from librosa) (0.12.1)\n",
            "Requirement already satisfied: pooch>=1.1 in /usr/local/lib/python3.10/dist-packages (from librosa) (1.8.1)\n",
            "Requirement already satisfied: soxr>=0.3.2 in /usr/local/lib/python3.10/dist-packages (from librosa) (0.3.7)\n",
            "Requirement already satisfied: typing-extensions>=4.1.1 in /usr/local/lib/python3.10/dist-packages (from librosa) (4.12.1)\n",
            "Requirement already satisfied: lazy-loader>=0.1 in /usr/local/lib/python3.10/dist-packages (from librosa) (0.4)\n",
            "Requirement already satisfied: msgpack>=1.0 in /usr/local/lib/python3.10/dist-packages (from librosa) (1.0.8)\n",
            "Requirement already satisfied: packaging in /usr/local/lib/python3.10/dist-packages (from lazy-loader>=0.1->librosa) (24.0)\n",
            "Requirement already satisfied: llvmlite<0.42,>=0.41.0dev0 in /usr/local/lib/python3.10/dist-packages (from numba>=0.53->resampy) (0.41.1)\n",
            "Requirement already satisfied: platformdirs>=2.5.0 in /usr/local/lib/python3.10/dist-packages (from pooch>=1.1->librosa) (4.2.2)\n",
            "Requirement already satisfied: requests>=2.19.0 in /usr/local/lib/python3.10/dist-packages (from pooch>=1.1->librosa) (2.31.0)\n",
            "Requirement already satisfied: threadpoolctl>=2.0.0 in /usr/local/lib/python3.10/dist-packages (from scikit-learn>=0.20.0->librosa) (3.5.0)\n",
            "Requirement already satisfied: cffi>=1.0 in /usr/local/lib/python3.10/dist-packages (from soundfile>=0.12.1->librosa) (1.16.0)\n",
            "Requirement already satisfied: pycparser in /usr/local/lib/python3.10/dist-packages (from cffi>=1.0->soundfile>=0.12.1->librosa) (2.22)\n",
            "Requirement already satisfied: charset-normalizer<4,>=2 in /usr/local/lib/python3.10/dist-packages (from requests>=2.19.0->pooch>=1.1->librosa) (3.3.2)\n",
            "Requirement already satisfied: idna<4,>=2.5 in /usr/local/lib/python3.10/dist-packages (from requests>=2.19.0->pooch>=1.1->librosa) (3.7)\n",
            "Requirement already satisfied: urllib3<3,>=1.21.1 in /usr/local/lib/python3.10/dist-packages (from requests>=2.19.0->pooch>=1.1->librosa) (2.0.7)\n",
            "Requirement already satisfied: certifi>=2017.4.17 in /usr/local/lib/python3.10/dist-packages (from requests>=2.19.0->pooch>=1.1->librosa) (2024.6.2)\n",
            "Installing collected packages: resampy, librosa\n",
            "Successfully installed librosa-0.10.2.post1 resampy-0.4.3\n"
          ]
        }
      ]
    },
    {
      "cell_type": "code",
      "source": [
        "import matplotlib.pyplot as plt\n",
        "import librosa\n",
        "import librosa.display"
      ],
      "metadata": {
        "id": "CfeFG2DfrpEE"
      },
      "execution_count": null,
      "outputs": []
    },
    {
      "cell_type": "code",
      "source": [
        "librosa_audio_data,librosa_sample_rate = librosa.load(filename)\n",
        "plt.figure(figsize=(12,4))\n",
        "plt.plot(librosa_audio_data)"
      ],
      "metadata": {
        "colab": {
          "base_uri": "https://localhost:8080/",
          "height": 385
        },
        "id": "1zgQr9JcrDKv",
        "outputId": "3732e84f-7a02-43f9-ae49-051210ba88cc"
      },
      "execution_count": null,
      "outputs": [
        {
          "output_type": "execute_result",
          "data": {
            "text/plain": [
              "[<matplotlib.lines.Line2D at 0x7ed53d97dc60>]"
            ]
          },
          "metadata": {},
          "execution_count": 20
        },
        {
          "output_type": "display_data",
          "data": {
            "text/plain": [
              "<Figure size 1200x400 with 1 Axes>"
            ],
            "image/png": "[encoded data removed]"
          },
          "metadata": {}
        }
      ]
    },
    {
      "cell_type": "code",
      "source": [
        "import sklearn\n",
        "import numpy as np\n",
        "from sklearn.preprocessing import minmax_scale\n",
        "def feature_extractor(file):\n",
        "  audio,sample_rate = librosa.load(file,res_type='kaiser_fast')\n",
        "  audio = minmax_scale(audio,axis=0)\n",
        "  mfccs_features = librosa.feature.mfcc(y=audio,sr=sample_rate,n_mfcc=40)\n",
        "  mfccs_scaled_features = np.mean(mfccs_features.T,axis=0)\n",
        "  return mfccs_scaled_features"
      ],
      "metadata": {
        "id": "I7HNnHpSrnvW"
      },
      "execution_count": null,
      "outputs": []
    },
    {
      "cell_type": "code",
      "source": [
        "import librosa\n",
        "import resampy\n",
        "\n",
        "print(f\"librosa version: {librosa.__version__}\")\n",
        "print(f\"resampy version: {resampy.__version__}\")"
      ],
      "metadata": {
        "colab": {
          "base_uri": "https://localhost:8080/"
        },
        "id": "v5xlfDgpu7d9",
        "outputId": "b9177206-7f83-478e-d5f9-935e9706b219"
      },
      "execution_count": null,
      "outputs": [
        {
          "output_type": "stream",
          "name": "stdout",
          "text": [
            "librosa version: 0.10.2.post1\n",
            "resampy version: 0.4.3\n"
          ]
        }
      ]
    },
    {
      "cell_type": "code",
      "source": [
        "from librosa.core import audio\n",
        "\n",
        "print(\"Dependencies loaded successfully.\")"
      ],
      "metadata": {
        "colab": {
          "base_uri": "https://localhost:8080/"
        },
        "id": "rfq0Hlv1vK1P",
        "outputId": "c04478ee-ec81-4c3f-deca-7c4da7e6846b"
      },
      "execution_count": null,
      "outputs": [
        {
          "output_type": "stream",
          "name": "stdout",
          "text": [
            "Dependencies loaded successfully.\n"
          ]
        }
      ]
    },
    {
      "cell_type": "code",
      "source": [
        "from tqdm import tqdm\n",
        "extracted_features = []\n",
        "for idx_num,row in tqdm(data.iterrows()):\n",
        "  file_name = os.path.join((row[\"audio\"]))\n",
        "  final_label = row[\"leakage\"]\n",
        "  data1 = feature_extractor(file_name)\n",
        "  extracted_features.append([data1,final_label])"
      ],
      "metadata": {
        "colab": {
          "base_uri": "https://localhost:8080/"
        },
        "id": "lGVXUS1CtSAx",
        "outputId": "4b10e038-7deb-4514-a338-ec401711e685"
      },
      "execution_count": null,
      "outputs": [
        {
          "output_type": "stream",
          "name": "stderr",
          "text": [
            "140it [00:22,  6.21it/s]\n"
          ]
        }
      ]
    },
    {
      "cell_type": "code",
      "source": [
        "extracted_features_df=pd.DataFrame(extracted_features,columns=['feature','class'])\n",
        "extracted_features_df.head()"
      ],
      "metadata": {
        "id": "lVgNSA50t1Oa",
        "colab": {
          "base_uri": "https://localhost:8080/",
          "height": 206
        },
        "outputId": "c4f840fa-eb93-412b-eeb9-cad4e256d62f"
      },
      "execution_count": null,
      "outputs": [
        {
          "output_type": "execute_result",
          "data": {
            "text/plain": [
              "                                             feature  class\n",
              "0  [-310.8528, 252.19348, 78.25626, -37.549294, -...      0\n",
              "1  [-321.66925, 127.7756, -15.848858, -0.9010926,...      1\n",
              "2  [-324.71014, 135.85553, -9.296015, 1.85427, 34...      0\n",
              "3  [-244.61612, 171.30226, -39.326984, 3.4812086,...      0\n",
              "4  [-276.14487, 243.4172, -4.357382, -107.3111, -...      1"
            ],
            "text/html": [
              "\n",
              "  <div id=\"df-2fff28d7-8b37-4704-9f16-39531f6967f5\" class=\"colab-df-container\">\n",
              "    <div>\n",
              "<style scoped>\n",
              "    .dataframe tbody tr th:only-of-type {\n",
              "        vertical-align: middle;\n",
              "    }\n",
              "\n",
              "    .dataframe tbody tr th {\n",
              "        vertical-align: top;\n",
              "    }\n",
              "\n",
              "    .dataframe thead th {\n",
              "        text-align: right;\n",
              "    }\n",
              "</style>\n",
              "<table border=\"1\" class=\"dataframe\">\n",
              "  <thead>\n",
              "    <tr style=\"text-align: right;\">\n",
              "      <th></th>\n",
              "      <th>feature</th>\n",
              "      <th>class</th>\n",
              "    </tr>\n",
              "  </thead>\n",
              "  <tbody>\n",
              "    <tr>\n",
              "      <th>0</th>\n",
              "      <td>[-310.8528, 252.19348, 78.25626, -37.549294, -...</td>\n",
              "      <td>0</td>\n",
              "    </tr>\n",
              "    <tr>\n",
              "      <th>1</th>\n",
              "      <td>[-321.66925, 127.7756, -15.848858, -0.9010926,...</td>\n",
              "      <td>1</td>\n",
              "    </tr>\n",
              "    <tr>\n",
              "      <th>2</th>\n",
              "      <td>[-324.71014, 135.85553, -9.296015, 1.85427, 34...</td>\n",
              "      <td>0</td>\n",
              "    </tr>\n",
              "    <tr>\n",
              "      <th>3</th>\n",
              "      <td>[-244.61612, 171.30226, -39.326984, 3.4812086,...</td>\n",
              "      <td>0</td>\n",
              "    </tr>\n",
              "    <tr>\n",
              "      <th>4</th>\n",
              "      <td>[-276.14487, 243.4172, -4.357382, -107.3111, -...</td>\n",
              "      <td>1</td>\n",
              "    </tr>\n",
              "  </tbody>\n",
              "</table>\n",
              "</div>\n",
              "    <div class=\"colab-df-buttons\">\n",
              "\n",
              "  <div class=\"colab-df-container\">\n",
              "    <button class=\"colab-df-convert\" onclick=\"convertToInteractive('df-2fff28d7-8b37-4704-9f16-39531f6967f5')\"\n",
              "            title=\"Convert this dataframe to an interactive table.\"\n",
              "            style=\"display:none;\">\n",
              "\n",
              "  <svg xmlns=\"http://www.w3.org/2000/svg\" height=\"24px\" viewBox=\"0 -960 960 960\">\n",
              "    <path d=\"M120-120v-720h720v720H120Zm60-500h600v-160H180v160Zm220 220h160v-160H400v160Zm0 220h160v-160H400v160ZM180-400h160v-160H180v160Zm440 0h160v-160H620v160ZM180-180h160v-160H180v160Zm440 0h160v-160H620v160Z\"/>\n",
              "  </svg>\n",
              "    </button>\n",
              "\n",
              "  <style>\n",
              "    .colab-df-container {\n",
              "      display:flex;\n",
              "      gap: 12px;\n",
              "    }\n",
              "\n",
              "    .colab-df-convert {\n",
              "      background-color: #E8F0FE;\n",
              "      border: none;\n",
              "      border-radius: 50%;\n",
              "      cursor: pointer;\n",
              "      display: none;\n",
              "      fill: #1967D2;\n",
              "      height: 32px;\n",
              "      padding: 0 0 0 0;\n",
              "      width: 32px;\n",
              "    }\n",
              "\n",
              "    .colab-df-convert:hover {\n",
              "      background-color: #E2EBFA;\n",
              "      box-shadow: 0px 1px 2px rgba(60, 64, 67, 0.3), 0px 1px 3px 1px rgba(60, 64, 67, 0.15);\n",
              "      fill: #174EA6;\n",
              "    }\n",
              "\n",
              "    .colab-df-buttons div {\n",
              "      margin-bottom: 4px;\n",
              "    }\n",
              "\n",
              "    [theme=dark] .colab-df-convert {\n",
              "      background-color: #3B4455;\n",
              "      fill: #D2E3FC;\n",
              "    }\n",
              "\n",
              "    [theme=dark] .colab-df-convert:hover {\n",
              "      background-color: #434B5C;\n",
              "      box-shadow: 0px 1px 3px 1px rgba(0, 0, 0, 0.15);\n",
              "      filter: drop-shadow(0px 1px 2px rgba(0, 0, 0, 0.3));\n",
              "      fill: #FFFFFF;\n",
              "    }\n",
              "  </style>\n",
              "\n",
              "    <script>\n",
              "      const buttonEl =\n",
              "        document.querySelector('#df-2fff28d7-8b37-4704-9f16-39531f6967f5 button.colab-df-convert');\n",
              "      buttonEl.style.display =\n",
              "        google.colab.kernel.accessAllowed ? 'block' : 'none';\n",
              "\n",
              "      async function convertToInteractive(key) {\n",
              "        const element = document.querySelector('#df-2fff28d7-8b37-4704-9f16-39531f6967f5');\n",
              "        const dataTable =\n",
              "          await google.colab.kernel.invokeFunction('convertToInteractive',\n",
              "                                                    [key], {});\n",
              "        if (!dataTable) return;\n",
              "\n",
              "        const docLinkHtml = 'Like what you see? Visit the ' +\n",
              "          '<a target=\"_blank\" href=https://colab.research.google.com/notebooks/data_table.ipynb>data table notebook</a>'\n",
              "          + ' to learn more about interactive tables.';\n",
              "        element.innerHTML = '';\n",
              "        dataTable['output_type'] = 'display_data';\n",
              "        await google.colab.output.renderOutput(dataTable, element);\n",
              "        const docLink = document.createElement('div');\n",
              "        docLink.innerHTML = docLinkHtml;\n",
              "        element.appendChild(docLink);\n",
              "      }\n",
              "    </script>\n",
              "  </div>\n",
              "\n",
              "\n",
              "<div id=\"df-e9c994e1-8a73-45fe-92a3-3b0db238df3b\">\n",
              "  <button class=\"colab-df-quickchart\" onclick=\"quickchart('df-e9c994e1-8a73-45fe-92a3-3b0db238df3b')\"\n",
              "            title=\"Suggest charts\"\n",
              "            style=\"display:none;\">\n",
              "\n",
              "<svg xmlns=\"http://www.w3.org/2000/svg\" height=\"24px\"viewBox=\"0 0 24 24\"\n",
              "     width=\"24px\">\n",
              "    <g>\n",
              "        <path d=\"M19 3H5c-1.1 0-2 .9-2 2v14c0 1.1.9 2 2 2h14c1.1 0 2-.9 2-2V5c0-1.1-.9-2-2-2zM9 17H7v-7h2v7zm4 0h-2V7h2v10zm4 0h-2v-4h2v4z\"/>\n",
              "    </g>\n",
              "</svg>\n",
              "  </button>\n",
              "\n",
              "<style>\n",
              "  .colab-df-quickchart {\n",
              "      --bg-color: #E8F0FE;\n",
              "      --fill-color: #1967D2;\n",
              "      --hover-bg-color: #E2EBFA;\n",
              "      --hover-fill-color: #174EA6;\n",
              "      --disabled-fill-color: #AAA;\n",
              "      --disabled-bg-color: #DDD;\n",
              "  }\n",
              "\n",
              "  [theme=dark] .colab-df-quickchart {\n",
              "      --bg-color: #3B4455;\n",
              "      --fill-color: #D2E3FC;\n",
              "      --hover-bg-color: #434B5C;\n",
              "      --hover-fill-color: #FFFFFF;\n",
              "      --disabled-bg-color: #3B4455;\n",
              "      --disabled-fill-color: #666;\n",
              "  }\n",
              "\n",
              "  .colab-df-quickchart {\n",
              "    background-color: var(--bg-color);\n",
              "    border: none;\n",
              "    border-radius: 50%;\n",
              "    cursor: pointer;\n",
              "    display: none;\n",
              "    fill: var(--fill-color);\n",
              "    height: 32px;\n",
              "    padding: 0;\n",
              "    width: 32px;\n",
              "  }\n",
              "\n",
              "  .colab-df-quickchart:hover {\n",
              "    background-color: var(--hover-bg-color);\n",
              "    box-shadow: 0 1px 2px rgba(60, 64, 67, 0.3), 0 1px 3px 1px rgba(60, 64, 67, 0.15);\n",
              "    fill: var(--button-hover-fill-color);\n",
              "  }\n",
              "\n",
              "  .colab-df-quickchart-complete:disabled,\n",
              "  .colab-df-quickchart-complete:disabled:hover {\n",
              "    background-color: var(--disabled-bg-color);\n",
              "    fill: var(--disabled-fill-color);\n",
              "    box-shadow: none;\n",
              "  }\n",
              "\n",
              "  .colab-df-spinner {\n",
              "    border: 2px solid var(--fill-color);\n",
              "    border-color: transparent;\n",
              "    border-bottom-color: var(--fill-color);\n",
              "    animation:\n",
              "      spin 1s steps(1) infinite;\n",
              "  }\n",
              "\n",
              "  @keyframes spin {\n",
              "    0% {\n",
              "      border-color: transparent;\n",
              "      border-bottom-color: var(--fill-color);\n",
              "      border-left-color: var(--fill-color);\n",
              "    }\n",
              "    20% {\n",
              "      border-color: transparent;\n",
              "      border-left-color: var(--fill-color);\n",
              "      border-top-color: var(--fill-color);\n",
              "    }\n",
              "    30% {\n",
              "      border-color: transparent;\n",
              "      border-left-color: var(--fill-color);\n",
              "      border-top-color: var(--fill-color);\n",
              "      border-right-color: var(--fill-color);\n",
              "    }\n",
              "    40% {\n",
              "      border-color: transparent;\n",
              "      border-right-color: var(--fill-color);\n",
              "      border-top-color: var(--fill-color);\n",
              "    }\n",
              "    60% {\n",
              "      border-color: transparent;\n",
              "      border-right-color: var(--fill-color);\n",
              "    }\n",
              "    80% {\n",
              "      border-color: transparent;\n",
              "      border-right-color: var(--fill-color);\n",
              "      border-bottom-color: var(--fill-color);\n",
              "    }\n",
              "    90% {\n",
              "      border-color: transparent;\n",
              "      border-bottom-color: var(--fill-color);\n",
              "    }\n",
              "  }\n",
              "</style>\n",
              "\n",
              "  <script>\n",
              "    async function quickchart(key) {\n",
              "      const quickchartButtonEl =\n",
              "        document.querySelector('#' + key + ' button');\n",
              "      quickchartButtonEl.disabled = true;  // To prevent multiple clicks.\n",
              "      quickchartButtonEl.classList.add('colab-df-spinner');\n",
              "      try {\n",
              "        const charts = await google.colab.kernel.invokeFunction(\n",
              "            'suggestCharts', [key], {});\n",
              "      } catch (error) {\n",
              "        console.error('Error during call to suggestCharts:', error);\n",
              "      }\n",
              "      quickchartButtonEl.classList.remove('colab-df-spinner');\n",
              "      quickchartButtonEl.classList.add('colab-df-quickchart-complete');\n",
              "    }\n",
              "    (() => {\n",
              "      let quickchartButtonEl =\n",
              "        document.querySelector('#df-e9c994e1-8a73-45fe-92a3-3b0db238df3b button');\n",
              "      quickchartButtonEl.style.display =\n",
              "        google.colab.kernel.accessAllowed ? 'block' : 'none';\n",
              "    })();\n",
              "  </script>\n",
              "</div>\n",
              "\n",
              "    </div>\n",
              "  </div>\n"
            ],
            "application/vnd.google.colaboratory.intrinsic+json": {
              "type": "dataframe",
              "variable_name": "extracted_features_df",
              "summary": "{\n  \"name\": \"extracted_features_df\",\n  \"rows\": 140,\n  \"fields\": [\n    {\n      \"column\": \"feature\",\n      \"properties\": {\n        \"dtype\": \"object\",\n        \"semantic_type\": \"\",\n        \"description\": \"\"\n      }\n    },\n    {\n      \"column\": \"class\",\n      \"properties\": {\n        \"dtype\": \"number\",\n        \"std\": 0,\n        \"min\": 0,\n        \"max\": 1,\n        \"num_unique_values\": 2,\n        \"samples\": [\n          1,\n          0\n        ],\n        \"semantic_type\": \"\",\n        \"description\": \"\"\n      }\n    }\n  ]\n}"
            }
          },
          "metadata": {},
          "execution_count": 25
        }
      ]
    },
    {
      "cell_type": "code",
      "source": [
        "X=np.array(extracted_features_df['feature'].tolist())\n",
        "y=np.array(extracted_features_df['class'].tolist())"
      ],
      "metadata": {
        "id": "-u65mFNPz3pE"
      },
      "execution_count": null,
      "outputs": []
    },
    {
      "cell_type": "code",
      "source": [
        "X.shape"
      ],
      "metadata": {
        "id": "PEwWtso70ADs",
        "colab": {
          "base_uri": "https://localhost:8080/"
        },
        "outputId": "e48609d2-0c2c-4f4b-8e1e-4c9140162d2e"
      },
      "execution_count": null,
      "outputs": [
        {
          "output_type": "execute_result",
          "data": {
            "text/plain": [
              "(140, 40)"
            ]
          },
          "metadata": {},
          "execution_count": 27
        }
      ]
    },
    {
      "cell_type": "code",
      "source": [
        "y"
      ],
      "metadata": {
        "id": "wwAV7Wt20B0Y",
        "colab": {
          "base_uri": "https://localhost:8080/"
        },
        "outputId": "80540ad3-553d-46a3-a89c-0615fe9d1eea"
      },
      "execution_count": null,
      "outputs": [
        {
          "output_type": "execute_result",
          "data": {
            "text/plain": [
              "array([0, 1, 0, 0, 1, 1, 0, 0, 1, 0, 1, 0, 0, 1, 1, 0, 0, 1, 0, 0, 1, 0,\n",
              "       1, 1, 0, 0, 0, 0, 1, 1, 0, 1, 0, 0, 0, 0, 0, 0, 1, 0, 1, 1, 1, 1,\n",
              "       1, 0, 1, 0, 1, 1, 0, 0, 1, 1, 1, 1, 1, 0, 0, 0, 1, 0, 1, 1, 1, 1,\n",
              "       1, 0, 0, 0, 1, 0, 1, 0, 0, 1, 1, 0, 1, 1, 0, 0, 0, 1, 1, 1, 1, 1,\n",
              "       0, 0, 0, 1, 1, 0, 0, 1, 1, 1, 0, 1, 0, 0, 1, 1, 1, 0, 1, 0, 0, 1,\n",
              "       0, 1, 0, 1, 1, 1, 0, 0, 0, 1, 1, 1, 1, 0, 1, 0, 0, 0, 0, 0, 1, 0,\n",
              "       1, 1, 1, 0, 1, 0, 0, 0])"
            ]
          },
          "metadata": {},
          "execution_count": 28
        }
      ]
    },
    {
      "cell_type": "code",
      "source": [
        "from sklearn.model_selection import train_test_split\n",
        "X_train,X_test,y_train,y_test=train_test_split(X,y,test_size=0.2,random_state=0)"
      ],
      "metadata": {
        "id": "_2J_-m3q0DVU"
      },
      "execution_count": null,
      "outputs": []
    },
    {
      "cell_type": "code",
      "source": [
        "X_train"
      ],
      "metadata": {
        "id": "42HN9dbO0Is5",
        "colab": {
          "base_uri": "https://localhost:8080/"
        },
        "outputId": "7e8693e7-a632-4e80-d51d-7f7c0b0fe995"
      },
      "execution_count": null,
      "outputs": [
        {
          "output_type": "execute_result",
          "data": {
            "text/plain": [
              "array([[-346.60666   ,  200.23695   ,   57.326538  , ...,    3.876118  ,\n",
              "           6.879308  ,    5.798812  ],\n",
              "       [-280.74658   ,  237.30826   ,   -3.2866693 , ...,    3.6527727 ,\n",
              "          10.240767  ,    7.2940516 ],\n",
              "       [-273.82718   ,  249.01122   ,    0.64993435, ...,    5.494962  ,\n",
              "           8.375243  ,    4.8964763 ],\n",
              "       ...,\n",
              "       [-249.92928   ,  169.97037   ,  -37.12353   , ...,    4.3744726 ,\n",
              "           4.0250015 ,    6.222886  ],\n",
              "       [-411.08972   ,  147.07443   ,   80.26431   , ...,    2.8147075 ,\n",
              "           1.2562429 ,    1.3332517 ],\n",
              "       [-341.7931    ,  178.84512   ,   48.293358  , ...,    1.8028324 ,\n",
              "           2.6163168 ,    1.1746726 ]], dtype=float32)"
            ]
          },
          "metadata": {},
          "execution_count": 30
        }
      ]
    },
    {
      "cell_type": "code",
      "source": [
        "y"
      ],
      "metadata": {
        "id": "r3w3Zb3S0LXz",
        "colab": {
          "base_uri": "https://localhost:8080/"
        },
        "outputId": "f9d92ce6-315e-43ad-f917-34576966b745"
      },
      "execution_count": null,
      "outputs": [
        {
          "output_type": "execute_result",
          "data": {
            "text/plain": [
              "array([0, 1, 0, 0, 1, 1, 0, 0, 1, 0, 1, 0, 0, 1, 1, 0, 0, 1, 0, 0, 1, 0,\n",
              "       1, 1, 0, 0, 0, 0, 1, 1, 0, 1, 0, 0, 0, 0, 0, 0, 1, 0, 1, 1, 1, 1,\n",
              "       1, 0, 1, 0, 1, 1, 0, 0, 1, 1, 1, 1, 1, 0, 0, 0, 1, 0, 1, 1, 1, 1,\n",
              "       1, 0, 0, 0, 1, 0, 1, 0, 0, 1, 1, 0, 1, 1, 0, 0, 0, 1, 1, 1, 1, 1,\n",
              "       0, 0, 0, 1, 1, 0, 0, 1, 1, 1, 0, 1, 0, 0, 1, 1, 1, 0, 1, 0, 0, 1,\n",
              "       0, 1, 0, 1, 1, 1, 0, 0, 0, 1, 1, 1, 1, 0, 1, 0, 0, 0, 0, 0, 1, 0,\n",
              "       1, 1, 1, 0, 1, 0, 0, 0])"
            ]
          },
          "metadata": {},
          "execution_count": 31
        }
      ]
    },
    {
      "cell_type": "code",
      "source": [
        "X_train.shape"
      ],
      "metadata": {
        "id": "d_LoPRUA0NGI",
        "colab": {
          "base_uri": "https://localhost:8080/"
        },
        "outputId": "d75134f4-9abe-4c7b-f118-fb3771676152"
      },
      "execution_count": null,
      "outputs": [
        {
          "output_type": "execute_result",
          "data": {
            "text/plain": [
              "(112, 40)"
            ]
          },
          "metadata": {},
          "execution_count": 32
        }
      ]
    },
    {
      "cell_type": "code",
      "source": [
        "X_test.shape"
      ],
      "metadata": {
        "id": "LMbRN2D40Qqe",
        "colab": {
          "base_uri": "https://localhost:8080/"
        },
        "outputId": "17d00cc3-b663-4949-af3e-8ec0e768bcdd"
      },
      "execution_count": null,
      "outputs": [
        {
          "output_type": "execute_result",
          "data": {
            "text/plain": [
              "(28, 40)"
            ]
          },
          "metadata": {},
          "execution_count": 33
        }
      ]
    },
    {
      "cell_type": "code",
      "source": [
        "y_train.shape"
      ],
      "metadata": {
        "id": "SQXmhAiX0TnF",
        "colab": {
          "base_uri": "https://localhost:8080/"
        },
        "outputId": "f1f54d3b-47d5-4b3e-858f-e56423df4478"
      },
      "execution_count": null,
      "outputs": [
        {
          "output_type": "execute_result",
          "data": {
            "text/plain": [
              "(112,)"
            ]
          },
          "metadata": {},
          "execution_count": 34
        }
      ]
    },
    {
      "cell_type": "code",
      "source": [
        "y_test.shape"
      ],
      "metadata": {
        "id": "4FUlAkLE0Vwy",
        "colab": {
          "base_uri": "https://localhost:8080/"
        },
        "outputId": "6b143be6-cf1e-4cca-8a1b-eddbe16d2499"
      },
      "execution_count": null,
      "outputs": [
        {
          "output_type": "execute_result",
          "data": {
            "text/plain": [
              "(28,)"
            ]
          },
          "metadata": {},
          "execution_count": 35
        }
      ]
    },
    {
      "cell_type": "code",
      "source": [
        "import tensorflow as tf\n",
        "from tensorflow.keras.models import Sequential\n",
        "from tensorflow.keras.layers import Dense,Dropout,Activation,Flatten\n",
        "from tensorflow.keras.optimizers import Adam\n",
        "from sklearn import metrics"
      ],
      "metadata": {
        "id": "T2e081Gq0X2y"
      },
      "execution_count": null,
      "outputs": []
    },
    {
      "cell_type": "code",
      "source": [
        "num_labels = 1"
      ],
      "metadata": {
        "id": "Crm91a1y8Opv"
      },
      "execution_count": null,
      "outputs": []
    },
    {
      "cell_type": "code",
      "source": [
        "model=Sequential()\n",
        "###first layer\n",
        "model.add(Dense(100,input_shape=(40,)))\n",
        "model.add(Activation('relu'))\n",
        "model.add(Dropout(0.5))\n",
        "###second layer\n",
        "model.add(Dense(200))\n",
        "model.add(Activation('relu'))\n",
        "model.add(Dropout(0.5))\n",
        "###third layer\n",
        "model.add(Dense(100))\n",
        "model.add(Activation('relu'))\n",
        "model.add(Dropout(0.5))\n",
        "\n",
        "###final layer\n",
        "model.add(Dense(num_labels))\n",
        "model.add(Activation('softmax'))"
      ],
      "metadata": {
        "id": "UPPkM8NG8Csy"
      },
      "execution_count": null,
      "outputs": []
    },
    {
      "cell_type": "code",
      "source": [
        "model.summary()"
      ],
      "metadata": {
        "id": "7Si5EYwg8MbM",
        "colab": {
          "base_uri": "https://localhost:8080/"
        },
        "outputId": "398dec48-8133-4902-a5d6-5824eaa74418"
      },
      "execution_count": null,
      "outputs": [
        {
          "output_type": "stream",
          "name": "stdout",
          "text": [
            "Model: \"sequential\"\n",
            "_________________________________________________________________\n",
            " Layer (type)                Output Shape              Param #   \n",
            "=================================================================\n",
            " dense (Dense)               (None, 100)               4100      \n",
            "                                                                 \n",
            " activation (Activation)     (None, 100)               0         \n",
            "                                                                 \n",
            " dropout (Dropout)           (None, 100)               0         \n",
            "                                                                 \n",
            " dense_1 (Dense)             (None, 200)               20200     \n",
            "                                                                 \n",
            " activation_1 (Activation)   (None, 200)               0         \n",
            "                                                                 \n",
            " dropout_1 (Dropout)         (None, 200)               0         \n",
            "                                                                 \n",
            " dense_2 (Dense)             (None, 100)               20100     \n",
            "                                                                 \n",
            " activation_2 (Activation)   (None, 100)               0         \n",
            "                                                                 \n",
            " dropout_2 (Dropout)         (None, 100)               0         \n",
            "                                                                 \n",
            " dense_3 (Dense)             (None, 1)                 101       \n",
            "                                                                 \n",
            " activation_3 (Activation)   (None, 1)                 0         \n",
            "                                                                 \n",
            "=================================================================\n",
            "Total params: 44501 (173.83 KB)\n",
            "Trainable params: 44501 (173.83 KB)\n",
            "Non-trainable params: 0 (0.00 Byte)\n",
            "_________________________________________________________________\n"
          ]
        }
      ]
    },
    {
      "cell_type": "code",
      "source": [
        "model.compile(loss='categorical_crossentropy',metrics=['accuracy'],optimizer='adam')"
      ],
      "metadata": {
        "id": "XDNtK7DQ8UwR"
      },
      "execution_count": null,
      "outputs": []
    },
    {
      "cell_type": "code",
      "source": [
        "## Trianing my model\n",
        "from tensorflow.keras.callbacks import ModelCheckpoint\n",
        "from datetime import datetime\n",
        "\n",
        "num_epochs = 5\n",
        "num_batch_size = 32\n",
        "\n",
        "checkpointer = ModelCheckpoint(filepath='saved_models/audio_classification.hdf5',\n",
        "                               verbose=1, save_best_only=True)\n",
        "start = datetime.now()\n",
        "\n",
        "model.fit(X_train, y_train, batch_size=num_batch_size, epochs=num_epochs, validation_data=(X_test, y_test), callbacks=[checkpointer], verbose=1)\n",
        "\n",
        "\n",
        "duration = datetime.now() - start\n",
        "print(\"Training completed in time: \", duration)"
      ],
      "metadata": {
        "id": "EXtgWB688d8T",
        "colab": {
          "base_uri": "https://localhost:8080/"
        },
        "outputId": "20af5a20-5698-45ec-b253-ad063297d031"
      },
      "execution_count": null,
      "outputs": [
        {
          "output_type": "stream",
          "name": "stdout",
          "text": [
            "Epoch 1/5\n"
          ]
        },
        {
          "output_type": "stream",
          "name": "stderr",
          "text": [
            "/usr/local/lib/python3.10/dist-packages/tensorflow/python/util/dispatch.py:1260: SyntaxWarning: In loss categorical_crossentropy, expected y_pred.shape to be (batch_size, num_classes) with num_classes > 1. Received: y_pred.shape=(None, 1). Consider using 'binary_crossentropy' if you only have 2 classes.\n",
            "  return dispatch_target(*args, **kwargs)\n"
          ]
        },
        {
          "output_type": "stream",
          "name": "stdout",
          "text": [
            "\r1/4 [======>.......................] - ETA: 3s - loss: 0.0000e+00 - accuracy: 0.5000\n",
            "Epoch 1: val_loss improved from inf to 0.00000, saving model to saved_models/audio_classification.hdf5\n",
            "4/4 [==============================] - 1s 106ms/step - loss: 0.0000e+00 - accuracy: 0.5268 - val_loss: 0.0000e+00 - val_accuracy: 0.3929\n",
            "Epoch 2/5\n",
            "1/4 [======>.......................] - ETA: 0s - loss: 0.0000e+00 - accuracy: 0.5312\n",
            "Epoch 2: val_loss did not improve from 0.00000\n",
            "4/4 [==============================] - 0s 13ms/step - loss: 0.0000e+00 - accuracy: 0.5268 - val_loss: 0.0000e+00 - val_accuracy: 0.3929\n",
            "Epoch 3/5\n",
            "1/4 [======>.......................] - ETA: 0s - loss: 0.0000e+00 - accuracy: 0.5000\n",
            "Epoch 3: val_loss did not improve from 0.00000\n",
            "4/4 [==============================] - 0s 12ms/step - loss: 0.0000e+00 - accuracy: 0.5268 - val_loss: 0.0000e+00 - val_accuracy: 0.3929\n",
            "Epoch 4/5\n",
            "1/4 [======>.......................] - ETA: 0s - loss: 0.0000e+00 - accuracy: 0.5000\n",
            "Epoch 4: val_loss did not improve from 0.00000\n",
            "4/4 [==============================] - 0s 12ms/step - loss: 0.0000e+00 - accuracy: 0.5268 - val_loss: 0.0000e+00 - val_accuracy: 0.3929\n",
            "Epoch 5/5\n",
            "1/4 [======>.......................] - ETA: 0s - loss: 0.0000e+00 - accuracy: 0.4375"
          ]
        },
        {
          "output_type": "stream",
          "name": "stderr",
          "text": [
            "/usr/local/lib/python3.10/dist-packages/keras/src/engine/training.py:3103: UserWarning: You are saving your model as an HDF5 file via `model.save()`. This file format is considered legacy. We recommend using instead the native Keras format, e.g. `model.save('my_model.keras')`.\n",
            "  saving_api.save_model(\n"
          ]
        },
        {
          "output_type": "stream",
          "name": "stdout",
          "text": [
            "\n",
            "Epoch 5: val_loss did not improve from 0.00000\n",
            "4/4 [==============================] - 0s 13ms/step - loss: 0.0000e+00 - accuracy: 0.5268 - val_loss: 0.0000e+00 - val_accuracy: 0.3929\n",
            "Training completed in time:  0:00:01.771749\n"
          ]
        }
      ]
    },
    {
      "cell_type": "code",
      "source": [
        "test_accuracy=model.evaluate(X_test,y_test,verbose=0)\n",
        "print(test_accuracy[1])"
      ],
      "metadata": {
        "id": "DyAPlYp78kPq",
        "colab": {
          "base_uri": "https://localhost:8080/"
        },
        "outputId": "85d3608a-2040-448c-c1f1-83422acf1ed4"
      },
      "execution_count": null,
      "outputs": [
        {
          "output_type": "stream",
          "name": "stdout",
          "text": [
            "0.3928571343421936\n"
          ]
        }
      ]
    },
    {
      "cell_type": "code",
      "source": [
        "from tensorflow.keras.models import Sequential\n",
        "from tensorflow.keras.layers import Dense,Dropout,Activation,Flatten,Input,Convolution1D,MaxPool1D,GlobalMaxPool1D,BatchNormalization\n",
        "from tensorflow.keras.optimizers import Adam\n",
        "from sklearn import metrics\n",
        "input_length=40\n",
        "from keras import models,optimizers,losses\n",
        "import tensorflow as tf"
      ],
      "metadata": {
        "id": "vYPJWZVn9L9H"
      },
      "execution_count": null,
      "outputs": []
    },
    {
      "cell_type": "code",
      "source": [
        "from keras.backend import batch_normalization\n",
        "nclass=1\n",
        "inp = Input(shape=(input_length,1))\n",
        "x = Convolution1D(16, 3, activation='relu', padding=\"valid\")(inp)\n",
        "x = Convolution1D(16, 3, activation='relu', padding=\"valid\")(x)\n",
        "\n",
        "\n",
        "\n",
        "x = Convolution1D(32, 3, activation='relu', padding=\"valid\")(x)\n",
        "x = BatchNormalization()(x)\n",
        "\n",
        "\n",
        "\n",
        "x = Convolution1D(64, 3, activation='relu', padding=\"valid\")(x)\n",
        "x = BatchNormalization()(x)\n",
        "\n",
        "\n",
        "x = Convolution1D(256, 3, activation='relu', padding=\"valid\")(x)\n",
        "x = GlobalMaxPool1D()(x)\n",
        "x = Dropout(0.2)(x)\n",
        "\n",
        "x = Flatten()(x)\n",
        "x = Dense(64, activation='relu')(x)\n",
        "x = Dropout(0.5)(x)\n",
        "x = Dense(128, activation='relu')(x)\n",
        "x = Dropout(0.5)(x)\n",
        "out = Dense(nclass, activation='sigmoid')(x)\n",
        "\n",
        "model = models.Model(inputs=inp, outputs=out)\n",
        "opt = tf.keras.optimizers.Adam(learning_rate=0.001)\n",
        "\n",
        "model.compile(optimizer=opt, loss=losses.binary_crossentropy, metrics=['acc'])"
      ],
      "metadata": {
        "id": "SIGGPwBF8sMD"
      },
      "execution_count": null,
      "outputs": []
    },
    {
      "cell_type": "code",
      "source": [
        "history = model.fit(X_train,y_train,batch_size=16,epochs=15,validation_data=(X_test, y_test),verbose=1)"
      ],
      "metadata": {
        "id": "tWQpOArV9GRg",
        "colab": {
          "base_uri": "https://localhost:8080/"
        },
        "outputId": "29787f0c-6b3e-4e0f-d40f-8e2c60b0acbc"
      },
      "execution_count": null,
      "outputs": [
        {
          "output_type": "stream",
          "name": "stdout",
          "text": [
            "Epoch 1/15\n",
            "7/7 [==============================] - 3s 78ms/step - loss: 0.9996 - acc: 0.5625 - val_loss: 0.6615 - val_acc: 0.3929\n",
            "Epoch 2/15\n",
            "7/7 [==============================] - 0s 23ms/step - loss: 0.7491 - acc: 0.6607 - val_loss: 0.5650 - val_acc: 0.8214\n",
            "Epoch 3/15\n",
            "7/7 [==============================] - 0s 22ms/step - loss: 0.8265 - acc: 0.5714 - val_loss: 0.5397 - val_acc: 0.8214\n",
            "Epoch 4/15\n",
            "7/7 [==============================] - 0s 21ms/step - loss: 0.6846 - acc: 0.6786 - val_loss: 0.5603 - val_acc: 0.6071\n",
            "Epoch 5/15\n",
            "7/7 [==============================] - 0s 21ms/step - loss: 0.5460 - acc: 0.6964 - val_loss: 0.5575 - val_acc: 0.6429\n",
            "Epoch 6/15\n",
            "7/7 [==============================] - 0s 24ms/step - loss: 0.6048 - acc: 0.6607 - val_loss: 0.5443 - val_acc: 0.6429\n",
            "Epoch 7/15\n",
            "7/7 [==============================] - 0s 23ms/step - loss: 0.4562 - acc: 0.7679 - val_loss: 0.4999 - val_acc: 0.7857\n",
            "Epoch 8/15\n",
            "7/7 [==============================] - 0s 23ms/step - loss: 0.4573 - acc: 0.7857 - val_loss: 0.5497 - val_acc: 0.8214\n",
            "Epoch 9/15\n",
            "7/7 [==============================] - 0s 23ms/step - loss: 0.4259 - acc: 0.7857 - val_loss: 0.5795 - val_acc: 0.7857\n",
            "Epoch 10/15\n",
            "7/7 [==============================] - 0s 22ms/step - loss: 0.5201 - acc: 0.8125 - val_loss: 0.4875 - val_acc: 0.8214\n",
            "Epoch 11/15\n",
            "7/7 [==============================] - 0s 23ms/step - loss: 0.4107 - acc: 0.7857 - val_loss: 0.5821 - val_acc: 0.5714\n",
            "Epoch 12/15\n",
            "7/7 [==============================] - 0s 25ms/step - loss: 0.4195 - acc: 0.7946 - val_loss: 0.5400 - val_acc: 0.7500\n",
            "Epoch 13/15\n",
            "7/7 [==============================] - 0s 23ms/step - loss: 0.3821 - acc: 0.8125 - val_loss: 0.5061 - val_acc: 0.8214\n",
            "Epoch 14/15\n",
            "7/7 [==============================] - 0s 23ms/step - loss: 0.4724 - acc: 0.7679 - val_loss: 0.5091 - val_acc: 0.7857\n",
            "Epoch 15/15\n",
            "7/7 [==============================] - 0s 23ms/step - loss: 0.3265 - acc: 0.8750 - val_loss: 0.5073 - val_acc: 0.8571\n"
          ]
        }
      ]
    },
    {
      "cell_type": "code",
      "source": [
        "loss_train = history.history['loss']\n",
        "loss_val = history.history['val_loss']\n",
        "epochs = range(1,16)\n",
        "plt.plot(epochs, loss_train, 'g', label='Training loss')\n",
        "plt.plot(epochs, loss_val, 'b', label='validation loss')\n",
        "plt.title('Training and Validation loss')\n",
        "plt.xlabel('Epochs')\n",
        "plt.ylabel('Loss')\n",
        "plt.legend()\n",
        "plt.show()"
      ],
      "metadata": {
        "id": "u-6_wjaX9TdM",
        "colab": {
          "base_uri": "https://localhost:8080/",
          "height": 472
        },
        "outputId": "6e90b37e-4629-4472-a8b9-d3f12fbc1c68"
      },
      "execution_count": null,
      "outputs": [
        {
          "output_type": "display_data",
          "data": {
            "text/plain": [
              "<Figure size 640x480 with 1 Axes>"
            ],
            "image/png": "[encoded data removed]"
          },
          "metadata": {}
        }
      ]
    },
    {
      "cell_type": "code",
      "source": [
        "test_accuracy=model.evaluate(X_test,y_test,verbose=0)\n",
        "print(test_accuracy[1])"
      ],
      "metadata": {
        "id": "bF4qrUhg9f4u",
        "colab": {
          "base_uri": "https://localhost:8080/"
        },
        "outputId": "352faca8-baba-4860-f113-6641fb98b57a"
      },
      "execution_count": null,
      "outputs": [
        {
          "output_type": "stream",
          "name": "stdout",
          "text": [
            "0.8571428656578064\n"
          ]
        }
      ]
    },
    {
      "cell_type": "code",
      "source": [
        "X_test[1]"
      ],
      "metadata": {
        "id": "TtJ5lkl99nlr",
        "colab": {
          "base_uri": "https://localhost:8080/"
        },
        "outputId": "b9d58cba-0918-46e5-9b64-90be21615efd"
      },
      "execution_count": null,
      "outputs": [
        {
          "output_type": "execute_result",
          "data": {
            "text/plain": [
              "array([-2.6049808e+02,  1.6822900e+02, -3.5192451e+01,  4.0531440e+00,\n",
              "        3.3880215e+01, -1.0169486e+01,  8.0499582e+00,  1.7589857e+01,\n",
              "       -6.4388885e+00,  1.0006359e+01,  1.6176298e+01, -1.4607168e+00,\n",
              "        9.6461372e+00,  1.3282327e+01,  1.4862164e+00,  9.9256840e+00,\n",
              "        9.7498922e+00, -9.9835759e-03,  8.2403679e+00,  8.9374704e+00,\n",
              "        1.6582029e+00,  7.7757306e+00,  8.0629559e+00,  4.0522833e+00,\n",
              "        9.3663197e+00,  7.3441381e+00,  3.2381108e+00,  8.1061602e+00,\n",
              "        6.5955076e+00,  2.9927132e+00,  5.6773257e+00,  3.9269979e+00,\n",
              "        3.1285675e+00,  6.8279161e+00,  4.5700302e+00,  3.1636317e+00,\n",
              "        6.2029419e+00,  5.0105095e+00,  4.5765600e+00,  6.0396209e+00],\n",
              "      dtype=float32)"
            ]
          },
          "metadata": {},
          "execution_count": 48
        }
      ]
    },
    {
      "cell_type": "code",
      "source": [
        "predictions=model.predict(X_test)\n",
        "print(predictions)"
      ],
      "metadata": {
        "id": "0aY2Zrgh9sOV",
        "colab": {
          "base_uri": "https://localhost:8080/"
        },
        "outputId": "b95c5c86-6f5a-4adf-c375-2f6a8718f3a1"
      },
      "execution_count": null,
      "outputs": [
        {
          "output_type": "stream",
          "name": "stdout",
          "text": [
            "1/1 [==============================] - 0s 186ms/step\n",
            "[[0.2835855 ]\n",
            " [0.27644873]\n",
            " [0.28692564]\n",
            " [0.2828931 ]\n",
            " [0.985454  ]\n",
            " [0.29560158]\n",
            " [0.38172507]\n",
            " [0.89392275]\n",
            " [0.9975699 ]\n",
            " [0.99674094]\n",
            " [0.5475742 ]\n",
            " [0.61337006]\n",
            " [0.5448028 ]\n",
            " [0.9881034 ]\n",
            " [0.94202864]\n",
            " [0.9967668 ]\n",
            " [0.8615951 ]\n",
            " [0.26549172]\n",
            " [0.4046535 ]\n",
            " [0.99626464]\n",
            " [0.45692855]\n",
            " [0.9505936 ]\n",
            " [0.9992355 ]\n",
            " [0.40866014]\n",
            " [0.46079332]\n",
            " [0.6942705 ]\n",
            " [0.30528408]\n",
            " [0.34638235]]\n"
          ]
        }
      ]
    },
    {
      "cell_type": "code",
      "source": [
        "predictions[np.where(predictions>0.5)]=1\n",
        "predictions[np.where(predictions<0.5)]=0"
      ],
      "metadata": {
        "id": "O_BPuwgt9wCh"
      },
      "execution_count": null,
      "outputs": []
    },
    {
      "cell_type": "code",
      "source": [
        "predictions"
      ],
      "metadata": {
        "id": "jNlRhmn49_ZT",
        "colab": {
          "base_uri": "https://localhost:8080/"
        },
        "outputId": "cc4dbcc3-1add-4e1b-c809-1855353effa5"
      },
      "execution_count": null,
      "outputs": [
        {
          "output_type": "execute_result",
          "data": {
            "text/plain": [
              "array([[0.],\n",
              "       [0.],\n",
              "       [0.],\n",
              "       [0.],\n",
              "       [1.],\n",
              "       [0.],\n",
              "       [0.],\n",
              "       [1.],\n",
              "       [1.],\n",
              "       [1.],\n",
              "       [1.],\n",
              "       [1.],\n",
              "       [1.],\n",
              "       [1.],\n",
              "       [1.],\n",
              "       [1.],\n",
              "       [1.],\n",
              "       [0.],\n",
              "       [0.],\n",
              "       [1.],\n",
              "       [0.],\n",
              "       [1.],\n",
              "       [1.],\n",
              "       [0.],\n",
              "       [0.],\n",
              "       [1.],\n",
              "       [0.],\n",
              "       [0.]], dtype=float32)"
            ]
          },
          "metadata": {},
          "execution_count": 51
        }
      ]
    },
    {
      "cell_type": "code",
      "source": [],
      "metadata": {
        "id": "yNFIJQpy-Bgg"
      },
      "execution_count": null,
      "outputs": []
    }
  ]
}